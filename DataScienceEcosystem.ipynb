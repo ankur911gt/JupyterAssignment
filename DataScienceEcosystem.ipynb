{
 "cells": [
  {
   "cell_type": "markdown",
   "id": "8d464e39-40d1-43e9-ad46-5c55f07aab17",
   "metadata": {},
   "source": [
    "# Data Science tools and Ecosystem"
   ]
  },
  {
   "cell_type": "markdown",
   "id": "d5689ee7-8f65-4663-8db3-f00ac41ac92a",
   "metadata": {},
   "source": [
    "In this notebook, Data Science Tools and Ecosystem are summarized."
   ]
  },
  {
   "cell_type": "markdown",
   "id": "682c86eb-c08d-4926-86ba-9d0cf4a74f98",
   "metadata": {},
   "source": [
    "**Objectives:**\r\n",
    "\r\n",
    "- List popular languages for Data Science.\r\n",
    "- Highlight commonly used libraries in Jupyter Notebook.\r\n",
    "- Introduce some popular Data Science tools.\r\n"
   ]
  },
  {
   "cell_type": "markdown",
   "id": "84887b53-6040-4316-94df-9d77d9a038af",
   "metadata": {},
   "source": [
    "Some of the popular languages that Data Scientists use are:\r\n",
    "\r\n",
    "1. Python\r\n",
    "2. R\r\n",
    "3. Julia\r\n"
   ]
  },
  {
   "cell_type": "markdown",
   "id": "dc59a8dc-af91-4aec-b88c-618c11d1d2bf",
   "metadata": {},
   "source": [
    "Some of the commonly used libraries used by Data Scientists include:\r\n",
    "\r\n",
    "1. NumPy\r\n",
    "2. pandas\r",
    "M3. MatplotlibS\n",
    "4. scikit-learn\r\n"
   ]
  },
  {
   "cell_type": "code",
   "execution_count": null,
   "id": "e34aa5ac-e9c2-4150-8ecd-c43efd32e10b",
   "metadata": {},
   "outputs": [],
   "source": [
    "| Data Science Tools|\n",
    "|-------------------|\n",
    "| Jupyter Notebook  |\n",
    "| RStudio           |\n",
    "| VS Code           |"
   ]
  },
  {
   "cell_type": "markdown",
   "id": "9e57dd38-af43-4a60-a04a-59a5c4cb903b",
   "metadata": {},
   "source": [
    "### Below are few examples of evaluating arithmatic expressions in python"
   ]
  },
  {
   "cell_type": "code",
   "execution_count": 2,
   "id": "2316e51a-86b8-478d-b615-243a63416ba4",
   "metadata": {},
   "outputs": [
    {
     "data": {
      "text/plain": [
       "17"
      ]
     },
     "execution_count": 2,
     "metadata": {},
     "output_type": "execute_result"
    }
   ],
   "source": [
    "#This is a simple arithmetic expression to multiply and then add  integers.\n",
    "result = ( 3 * 4 ) + 5\n",
    "result"
   ]
  },
  {
   "cell_type": "code",
   "execution_count": 3,
   "id": "9614a48e-1a43-4ee1-96da-65687d190ff8",
   "metadata": {},
   "outputs": [
    {
     "data": {
      "text/plain": [
       "3.3333333333333335"
      ]
     },
     "execution_count": 3,
     "metadata": {},
     "output_type": "execute_result"
    }
   ],
   "source": [
    "#This will convert 200 minutes to hours by diving by 60.\n",
    "hours = 200 / 60\n",
    "hours"
   ]
  },
  {
   "cell_type": "markdown",
   "id": "4846c877-994e-4238-9a17-1f38a8fe7c90",
   "metadata": {},
   "source": [
    "## Author\r\n",
    "Ankur Das\r\n"
   ]
  }
 ],
 "metadata": {
  "kernelspec": {
   "display_name": "Python 3 (ipykernel)",
   "language": "python",
   "name": "python3"
  },
  "language_info": {
   "codemirror_mode": {
    "name": "ipython",
    "version": 3
   },
   "file_extension": ".py",
   "mimetype": "text/x-python",
   "name": "python",
   "nbconvert_exporter": "python",
   "pygments_lexer": "ipython3",
   "version": "3.11.7"
  }
 },
 "nbformat": 4,
 "nbformat_minor": 5
}
